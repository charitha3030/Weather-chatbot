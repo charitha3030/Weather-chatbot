{
  "nbformat": 4,
  "nbformat_minor": 0,
  "metadata": {
    "colab": {
      "provenance": [],
      "authorship_tag": "ABX9TyMUJIEvRVz6lX7DW4i7gC03",
      "include_colab_link": true
    },
    "kernelspec": {
      "name": "python3",
      "display_name": "Python 3"
    },
    "language_info": {
      "name": "python"
    }
  },
  "cells": [
    {
      "cell_type": "markdown",
      "metadata": {
        "id": "view-in-github",
        "colab_type": "text"
      },
      "source": [
        "<a href=\"https://colab.research.google.com/github/charitha3030/Weather-chatbot/blob/main/Copy_of_Weather_chatbot.ipynb\" target=\"_parent\"><img src=\"https://colab.research.google.com/assets/colab-badge.svg\" alt=\"Open In Colab\"/></a>"
      ]
    },
    {
      "cell_type": "markdown",
      "source": [
        "WEATHER CHATBOT"
      ],
      "metadata": {
        "id": "pm8A_dqWHcuL"
      }
    },
    {
      "cell_type": "code",
      "execution_count": null,
      "metadata": {
        "colab": {
          "base_uri": "https://localhost:8080/"
        },
        "id": "z_E3-pWCluOs",
        "outputId": "4d6788aa-08da-441c-a71a-da9085c1b15d"
      },
      "outputs": [
        {
          "output_type": "stream",
          "name": "stdout",
          "text": [
            "Enter a location: kolar\n",
            "The weather in kolar is overcast clouds. The temperature is 27.42°C, humidity is 64%, and wind speed is 5.98 m/s.\n"
          ]
        }
      ],
      "source": [
        "import requests\n",
        "\n",
        "def get_weather(location):\n",
        "    api_key = \"2e0c3e85d117fff2ea8485bb91556421\"\n",
        "    base_url = \"http://api.openweathermap.org/data/2.5/weather\"\n",
        "    params = {\n",
        "        \"q\": location,\n",
        "        \"appid\": api_key,\n",
        "        \"units\": \"metric\"  # Get temperature in Celsius\n",
        "    }\n",
        "    response = requests.get(base_url, params=params)\n",
        "    data = response.json()\n",
        "\n",
        "    if response.status_code == 200:\n",
        "        temperature = data[\"main\"][\"temp\"]\n",
        "        humidity = data[\"main\"][\"humidity\"]\n",
        "        wind_speed = data[\"wind\"][\"speed\"]\n",
        "        weather_description = data[\"weather\"][0][\"description\"]\n",
        "\n",
        "        return temperature, humidity, wind_speed, weather_description\n",
        "    else:\n",
        "        return None\n",
        "\n",
        "def generate_response(location, temperature, humidity, wind_speed, weather_description):\n",
        "    if temperature is None:\n",
        "        return \"Sorry, I couldn't retrieve the weather information for that location.\"\n",
        "\n",
        "    response = f\"The weather in {location} is {weather_description}. \"\n",
        "    response += f\"The temperature is {temperature}°C, humidity is {humidity}%, \"\n",
        "    response += f\"and wind speed is {wind_speed} m/s.\"\n",
        "    return response\n",
        "\n",
        "def main():\n",
        "    location = input(\"Enter a location: \")\n",
        "    weather_data = get_weather(location)\n",
        "\n",
        "    temperature, humidity, wind_speed, weather_description = weather_data\n",
        "\n",
        "    response = generate_response(location, temperature, humidity, wind_speed, weather_description)\n",
        "    print(response)\n",
        "\n",
        "if __name__ == \"__main__\":\n",
        "    main()\n"
      ]
    }
  ]
}